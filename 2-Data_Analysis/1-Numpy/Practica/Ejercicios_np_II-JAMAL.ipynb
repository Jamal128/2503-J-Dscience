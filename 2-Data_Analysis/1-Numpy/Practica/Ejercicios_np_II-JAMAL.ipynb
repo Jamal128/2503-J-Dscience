{
 "cells": [
  {
   "cell_type": "markdown",
   "metadata": {},
   "source": [
    "![imagen](./img/ejercicios.png)"
   ]
  },
  {
   "cell_type": "code",
   "execution_count": 261,
   "metadata": {},
   "outputs": [],
   "source": [
    "import numpy as np"
   ]
  },
  {
   "cell_type": "markdown",
   "metadata": {},
   "source": [
    "## Ejercicio 1\n",
    "1. Crea un array que vaya del 0 al 9 y que se llame `my_array`\n",
    "2. Imprime por pantalla los elementos [9 7 5 3 1] en ese orden."
   ]
  },
  {
   "cell_type": "code",
   "execution_count": 262,
   "metadata": {},
   "outputs": [
    {
     "name": "stdout",
     "output_type": "stream",
     "text": [
      "[0 1 2 3 4 5 6 7 8 9]\n"
     ]
    }
   ],
   "source": [
    "my_array = np.arange(10)\n",
    "print(my_array)"
   ]
  },
  {
   "cell_type": "code",
   "execution_count": 263,
   "metadata": {},
   "outputs": [
    {
     "name": "stdout",
     "output_type": "stream",
     "text": [
      "[9 7 5 3 1]\n"
     ]
    }
   ],
   "source": [
    "print(my_array[::-2])"
   ]
  },
  {
   "cell_type": "code",
   "execution_count": 264,
   "metadata": {},
   "outputs": [
    {
     "name": "stdout",
     "output_type": "stream",
     "text": [
      "[9 7 5 3 1]\n"
     ]
    }
   ],
   "source": [
    "print(my_array[my_array % 2 == 1][::-1])"
   ]
  },
  {
   "cell_type": "markdown",
   "metadata": {},
   "source": [
    "## Ejercicio 2\n",
    "Imprime por pantalla la secuencia [8 7] del array `my_array`"
   ]
  },
  {
   "cell_type": "code",
   "execution_count": 265,
   "metadata": {},
   "outputs": [
    {
     "name": "stdout",
     "output_type": "stream",
     "text": [
      "[0 1 2 3 4 5 6 7 8 9]\n"
     ]
    }
   ],
   "source": [
    "print(my_array)"
   ]
  },
  {
   "cell_type": "code",
   "execution_count": 266,
   "metadata": {},
   "outputs": [
    {
     "name": "stdout",
     "output_type": "stream",
     "text": [
      "[8 7]\n"
     ]
    }
   ],
   "source": [
    "print(my_array[-2:-4:-1])"
   ]
  },
  {
   "cell_type": "markdown",
   "metadata": {},
   "source": [
    "## Ejercicio 3\n",
    "Imprime por pantalla la secuencia [2 1 0] de `my_array`"
   ]
  },
  {
   "cell_type": "code",
   "execution_count": 267,
   "metadata": {},
   "outputs": [
    {
     "name": "stdout",
     "output_type": "stream",
     "text": [
      "[0 1 2 3 4 5 6 7 8 9]\n"
     ]
    }
   ],
   "source": [
    "print(my_array)"
   ]
  },
  {
   "cell_type": "code",
   "execution_count": 268,
   "metadata": {},
   "outputs": [
    {
     "name": "stdout",
     "output_type": "stream",
     "text": [
      "[2 1 0]\n"
     ]
    }
   ],
   "source": [
    "print(my_array[2::-1])"
   ]
  },
  {
   "cell_type": "code",
   "execution_count": 269,
   "metadata": {},
   "outputs": [
    {
     "name": "stdout",
     "output_type": "stream",
     "text": [
      "[np.int64(2), np.int64(1), np.int64(0)]\n"
     ]
    }
   ],
   "source": [
    "print(sorted(my_array[:3],reverse=True))"
   ]
  },
  {
   "cell_type": "code",
   "execution_count": 270,
   "metadata": {},
   "outputs": [
    {
     "data": {
      "text/plain": [
       "array([2, 1, 0])"
      ]
     },
     "execution_count": 270,
     "metadata": {},
     "output_type": "execute_result"
    }
   ],
   "source": [
    "np.take(my_array, [2,1,0])"
   ]
  },
  {
   "cell_type": "markdown",
   "metadata": {},
   "source": [
    "## Ejercicio 4\n",
    "1. Crea una matriz de 4x5, con una secuencia del 1 al 20\n",
    "2. Invierte totalmente la matriz. Tanto las filas, como las columnas"
   ]
  },
  {
   "cell_type": "code",
   "execution_count": 271,
   "metadata": {},
   "outputs": [
    {
     "name": "stdout",
     "output_type": "stream",
     "text": [
      "[[ 1  2  3  4  5]\n",
      " [ 6  7  8  9 10]\n",
      " [11 12 13 14 15]\n",
      " [16 17 18 19 20]]\n"
     ]
    }
   ],
   "source": [
    "my_matrix = np.arange(1,21).reshape(4,5)\n",
    "print(my_matrix)"
   ]
  },
  {
   "cell_type": "code",
   "execution_count": 272,
   "metadata": {},
   "outputs": [
    {
     "data": {
      "text/plain": [
       "array([[ 1,  6, 11, 16],\n",
       "       [ 2,  7, 12, 17],\n",
       "       [ 3,  8, 13, 18],\n",
       "       [ 4,  9, 14, 19],\n",
       "       [ 5, 10, 15, 20]])"
      ]
     },
     "execution_count": 272,
     "metadata": {},
     "output_type": "execute_result"
    }
   ],
   "source": [
    "my_matrix.T"
   ]
  },
  {
   "cell_type": "code",
   "execution_count": 273,
   "metadata": {},
   "outputs": [
    {
     "name": "stdout",
     "output_type": "stream",
     "text": [
      "[[ 1  2  3  4  5]\n",
      " [ 6  7  8  9 10]\n",
      " [11 12 13 14 15]\n",
      " [16 17 18 19 20]]\n"
     ]
    }
   ],
   "source": [
    "print(my_matrix)"
   ]
  },
  {
   "cell_type": "code",
   "execution_count": 274,
   "metadata": {},
   "outputs": [
    {
     "name": "stdout",
     "output_type": "stream",
     "text": [
      "[[20 19 18 17 16]\n",
      " [15 14 13 12 11]\n",
      " [10  9  8  7  6]\n",
      " [ 5  4  3  2  1]]\n"
     ]
    }
   ],
   "source": [
    "print(my_matrix[::-1,::-1])"
   ]
  },
  {
   "cell_type": "code",
   "execution_count": 275,
   "metadata": {},
   "outputs": [
    {
     "name": "stdout",
     "output_type": "stream",
     "text": [
      "[[20 19 18 17 16]\n",
      " [15 14 13 12 11]\n",
      " [10  9  8  7  6]\n",
      " [ 5  4  3  2  1]]\n"
     ]
    }
   ],
   "source": [
    "print(np.flip(my_matrix))"
   ]
  },
  {
   "cell_type": "markdown",
   "metadata": {},
   "source": [
    "## Ejercicio 5\n",
    "\n",
    "Obtén el siguiente array, partiendo de la matriz del ejercicio 4\n",
    "```Python\n",
    "array([[1, 2],\n",
    "       [6, 7]])\n",
    "```"
   ]
  },
  {
   "cell_type": "code",
   "execution_count": 276,
   "metadata": {},
   "outputs": [
    {
     "name": "stdout",
     "output_type": "stream",
     "text": [
      "[[ 1  2  3  4  5]\n",
      " [ 6  7  8  9 10]\n",
      " [11 12 13 14 15]\n",
      " [16 17 18 19 20]]\n"
     ]
    }
   ],
   "source": [
    "print(my_matrix)"
   ]
  },
  {
   "cell_type": "code",
   "execution_count": 277,
   "metadata": {},
   "outputs": [
    {
     "name": "stdout",
     "output_type": "stream",
     "text": [
      "[[1 2]\n",
      " [6 7]]\n"
     ]
    }
   ],
   "source": [
    "print(my_matrix[:2,:2])"
   ]
  },
  {
   "cell_type": "markdown",
   "metadata": {},
   "source": [
    "## Ejercicio 6\n",
    "Obtén el siguiente array, partiendo de la matriz del ejercicio 4\n",
    "```Python\n",
    "array([[ 1,  3,  5],\n",
    "       [11, 13, 15]])\n",
    "```"
   ]
  },
  {
   "cell_type": "code",
   "execution_count": 278,
   "metadata": {},
   "outputs": [
    {
     "name": "stdout",
     "output_type": "stream",
     "text": [
      "[[ 1  2  3  4  5]\n",
      " [ 6  7  8  9 10]\n",
      " [11 12 13 14 15]\n",
      " [16 17 18 19 20]]\n"
     ]
    }
   ],
   "source": [
    "print(my_matrix)"
   ]
  },
  {
   "cell_type": "code",
   "execution_count": 279,
   "metadata": {},
   "outputs": [
    {
     "name": "stdout",
     "output_type": "stream",
     "text": [
      "[[ 1  3  5]\n",
      " [11 13 15]]\n"
     ]
    }
   ],
   "source": [
    "print(my_matrix[::2,::2])"
   ]
  },
  {
   "cell_type": "markdown",
   "metadata": {},
   "source": [
    "## Ejercicio 7\n",
    "Obtén el siguiente array, partiendo de la matriz del ejercicio 4\n",
    "```Python\n",
    "array([[ 5,  4,  3,  2,  1],\n",
    "       [10,  9,  8,  7,  6],\n",
    "       [15, 14, 13, 12, 11]])\n",
    "```"
   ]
  },
  {
   "cell_type": "code",
   "execution_count": 280,
   "metadata": {},
   "outputs": [
    {
     "name": "stdout",
     "output_type": "stream",
     "text": [
      "[[ 1  2  3  4  5]\n",
      " [ 6  7  8  9 10]\n",
      " [11 12 13 14 15]\n",
      " [16 17 18 19 20]]\n"
     ]
    }
   ],
   "source": [
    "print(my_matrix)"
   ]
  },
  {
   "cell_type": "code",
   "execution_count": 281,
   "metadata": {},
   "outputs": [
    {
     "name": "stdout",
     "output_type": "stream",
     "text": [
      "[[ 5  4  3  2  1]\n",
      " [10  9  8  7  6]\n",
      " [15 14 13 12 11]]\n"
     ]
    }
   ],
   "source": [
    "print(my_matrix[:3,::-1])"
   ]
  },
  {
   "cell_type": "markdown",
   "metadata": {},
   "source": [
    "## Ejercicio 8\n",
    "Dado el siguiente array:\n",
    "\n",
    "```Python\n",
    "x = np.array([\"Loro\", \"Perro\", \"Gato\", \"Loro\", \"Perro\"])\n",
    "```\n",
    "\n",
    "Filtra el array para quedarte únicamente con los loros.\n",
    "\n",
    "Resuélvelo de dos maneras diferentes"
   ]
  },
  {
   "cell_type": "code",
   "execution_count": 282,
   "metadata": {},
   "outputs": [],
   "source": [
    "x = np.array([\"Loro\", \"Perro\", \"Gato\", \"Loro\", \"Perro\"])"
   ]
  },
  {
   "cell_type": "code",
   "execution_count": 283,
   "metadata": {},
   "outputs": [
    {
     "data": {
      "text/plain": [
       "array([ True, False, False,  True, False])"
      ]
     },
     "execution_count": 283,
     "metadata": {},
     "output_type": "execute_result"
    }
   ],
   "source": [
    "x == \"Loro\""
   ]
  },
  {
   "cell_type": "code",
   "execution_count": 284,
   "metadata": {},
   "outputs": [
    {
     "data": {
      "text/plain": [
       "array(['Loro', 'Loro'], dtype='<U5')"
      ]
     },
     "execution_count": 284,
     "metadata": {},
     "output_type": "execute_result"
    }
   ],
   "source": [
    "x[x == \"Loro\"]"
   ]
  },
  {
   "cell_type": "code",
   "execution_count": 285,
   "metadata": {},
   "outputs": [
    {
     "name": "stdout",
     "output_type": "stream",
     "text": [
      "[0 3]\n"
     ]
    }
   ],
   "source": [
    "print(np.where(x== \"Loro\")[0])"
   ]
  },
  {
   "cell_type": "code",
   "execution_count": 286,
   "metadata": {},
   "outputs": [
    {
     "name": "stdout",
     "output_type": "stream",
     "text": [
      "[0 3]\n"
     ]
    }
   ],
   "source": [
    "print(np.where(x == \"Loro\")[0])"
   ]
  },
  {
   "cell_type": "code",
   "execution_count": 287,
   "metadata": {},
   "outputs": [
    {
     "data": {
      "text/plain": [
       "array(['Loro', 'Loro'], dtype='<U5')"
      ]
     },
     "execution_count": 287,
     "metadata": {},
     "output_type": "execute_result"
    }
   ],
   "source": [
    "x[np.where(x == \"Loro\")]"
   ]
  },
  {
   "cell_type": "code",
   "execution_count": 288,
   "metadata": {},
   "outputs": [],
   "source": [
    "# np.where(x == \"Loro\", x, np.nan)"
   ]
  },
  {
   "cell_type": "markdown",
   "metadata": {},
   "source": [
    "## Ejercicio 9\n",
    "Crea una secuencia de 20 elementos y transfórmala en un array compuesto por 2 matrices de 5x2"
   ]
  },
  {
   "cell_type": "code",
   "execution_count": 289,
   "metadata": {},
   "outputs": [
    {
     "name": "stdout",
     "output_type": "stream",
     "text": [
      "[[[ 0  1]\n",
      "  [ 2  3]\n",
      "  [ 4  5]\n",
      "  [ 6  7]\n",
      "  [ 8  9]]\n",
      "\n",
      " [[10 11]\n",
      "  [12 13]\n",
      "  [14 15]\n",
      "  [16 17]\n",
      "  [18 19]]]\n"
     ]
    }
   ],
   "source": [
    "x = np.arange(20).reshape(2,5,2)\n",
    "print(x)"
   ]
  },
  {
   "cell_type": "code",
   "execution_count": 290,
   "metadata": {},
   "outputs": [
    {
     "name": "stdout",
     "output_type": "stream",
     "text": [
      "3\n",
      "(2, 5, 2)\n",
      "20\n"
     ]
    }
   ],
   "source": [
    "print(x.ndim)\n",
    "print(x.shape)\n",
    "print(x.size)"
   ]
  },
  {
   "cell_type": "code",
   "execution_count": 291,
   "metadata": {},
   "outputs": [
    {
     "name": "stdout",
     "output_type": "stream",
     "text": [
      "[[ 0  1]\n",
      " [ 2  3]\n",
      " [ 4  5]\n",
      " [ 6  7]\n",
      " [ 8  9]\n",
      " [10 11]\n",
      " [12 13]\n",
      " [14 15]\n",
      " [16 17]\n",
      " [18 19]]\n",
      "\n",
      "[[0 1]\n",
      " [2 3]\n",
      " [4 5]\n",
      " [6 7]\n",
      " [8 9]]\n",
      "\n",
      "[[10 11]\n",
      " [12 13]\n",
      " [14 15]\n",
      " [16 17]\n",
      " [18 19]]\n"
     ]
    }
   ],
   "source": [
    "x = np.arange(20).reshape(10,2)\n",
    "print(x)\n",
    "m1,m2 = np.vsplit(x,[5])\n",
    "print()\n",
    "print(m1)\n",
    "print()\n",
    "print(m2)"
   ]
  },
  {
   "cell_type": "markdown",
   "metadata": {},
   "source": [
    "## Ejercicio 10\n",
    "\n",
    "Crea un array de 10 0s. ¿Cuánto ocupa en memoria?\n",
    "\n",
    "Sustituye el 4to elemento por 1, e imprime el array por pantalla"
   ]
  },
  {
   "cell_type": "code",
   "execution_count": 292,
   "metadata": {},
   "outputs": [
    {
     "name": "stdout",
     "output_type": "stream",
     "text": [
      "[0. 0. 0. 0. 0. 0. 0. 0. 0. 0.]\n"
     ]
    }
   ],
   "source": [
    "array10_0s= np.zeros(10)\n",
    "print(array10_0s)"
   ]
  },
  {
   "cell_type": "code",
   "execution_count": 293,
   "metadata": {},
   "outputs": [
    {
     "name": "stdout",
     "output_type": "stream",
     "text": [
      "[0. 0. 0. 1. 0. 0. 0. 0. 0. 0.]\n"
     ]
    }
   ],
   "source": [
    "array10_0s[3] = 1\n",
    "print(array10_0s)"
   ]
  },
  {
   "cell_type": "markdown",
   "metadata": {},
   "source": [
    "## Ejercicio 11\n",
    "\n",
    "Crea un vector que vaya del 10 al 49\n",
    "\n",
    "Inviértelo"
   ]
  },
  {
   "cell_type": "code",
   "execution_count": 294,
   "metadata": {},
   "outputs": [
    {
     "name": "stdout",
     "output_type": "stream",
     "text": [
      "[10 11 12 13 14 15 16 17 18 19 20 21 22 23 24 25 26 27 28 29 30 31 32 33\n",
      " 34 35 36 37 38 39 40 41 42 43 44 45 46 47 48 49]\n"
     ]
    }
   ],
   "source": [
    "vde10a29 = np.arange(10,50)\n",
    "print(vde10a29)"
   ]
  },
  {
   "cell_type": "code",
   "execution_count": 295,
   "metadata": {},
   "outputs": [
    {
     "name": "stdout",
     "output_type": "stream",
     "text": [
      "[49 48 47 46 45 44 43 42 41 40 39 38 37 36 35 34 33 32 31 30 29 28 27 26\n",
      " 25 24 23 22 21 20 19 18 17 16 15 14 13 12 11 10]\n"
     ]
    }
   ],
   "source": [
    "print(vde10a29[::-1])"
   ]
  },
  {
   "cell_type": "markdown",
   "metadata": {},
   "source": [
    "## Ejercicio 12\n",
    "Encuentra los índices de los valores que no sean 0 del siguiente vector [1,2,0,0,4,0]. El output sería [1, 2 4]. [Encuentra el método apropiado en la documentación.](https://numpy.org/doc/) Encapsúlalo en una función, con un argumento de entrada de un vector."
   ]
  },
  {
   "cell_type": "code",
   "execution_count": 296,
   "metadata": {},
   "outputs": [
    {
     "name": "stdout",
     "output_type": "stream",
     "text": [
      "[1 2 0 0 4 0]\n",
      "\n",
      "(array([0, 1, 4]),)\n"
     ]
    }
   ],
   "source": [
    "envector= np.array([1,2,0,0,4,0])\n",
    "print(envector)\n",
    "print()\n",
    "\n",
    "def encuentra_no_cero(vector):\n",
    "    return np.where(vector != 0)\n",
    "\n",
    "print(encuentra_no_cero(envector))"
   ]
  },
  {
   "attachments": {},
   "cell_type": "markdown",
   "metadata": {},
   "source": [
    "## Ejercicio 13\n",
    "Crea una matriz de números aleatorios 10x10. Encuentra los valores mínimo y máximo."
   ]
  },
  {
   "cell_type": "code",
   "execution_count": 297,
   "metadata": {},
   "outputs": [
    {
     "name": "stdout",
     "output_type": "stream",
     "text": [
      "[[38 83 79 10 40 55 24 20 97 20]\n",
      " [50 86 99 59 59 25 23 69 75 98]\n",
      " [70 68 30 93 57 85 27 70 65 76]\n",
      " [87 22  5 94 14  3 32 62 79 64]\n",
      " [71 41  4 73 26 17 42 17 88 94]\n",
      " [47 44 95 69  9 46 49 91 86 78]\n",
      " [87 44 98 24 60 46 95 51 48 45]\n",
      " [66  4  6 36 72 27  9 60 24 77]\n",
      " [71 66 57 19 77 38 68 82 54 49]\n",
      " [50 92  3 17 19 46 60 56 63 98]]\n"
     ]
    }
   ],
   "source": [
    "mat10x10= np.random.randint(0,100,100)\n",
    "mat10x10= mat10x10.reshape(10,10)\n",
    "print(mat10x10)"
   ]
  },
  {
   "cell_type": "code",
   "execution_count": 309,
   "metadata": {},
   "outputs": [
    {
     "name": "stdout",
     "output_type": "stream",
     "text": [
      "3\n",
      "99\n"
     ]
    }
   ],
   "source": [
    "print(np.min(mat10x10))\n",
    "print(np.max(mat10x10))"
   ]
  },
  {
   "cell_type": "markdown",
   "metadata": {},
   "source": [
    "## Ejercicio 14\n",
    "Crea un vector aleatorio de tamaño 30 y calcula su media"
   ]
  },
  {
   "cell_type": "code",
   "execution_count": 299,
   "metadata": {},
   "outputs": [
    {
     "name": "stdout",
     "output_type": "stream",
     "text": [
      "[3233 2860 4389 2527 6625 2380 5700 1502 9084 6788 8686 5877 5138 5207\n",
      " 8175  363 2858 3677 4398 4950 8954 5631 2689 7213 7957 6203 2850 9916\n",
      " 7906 2663]\n",
      "\n",
      "5213.3\n"
     ]
    }
   ],
   "source": [
    "vecmedia= np.random.randint(0,11111,30)\n",
    "print(vecmedia)\n",
    "print()\n",
    "\n",
    "print(round(np.mean(vecmedia),2))"
   ]
  },
  {
   "cell_type": "markdown",
   "metadata": {},
   "source": [
    "## Ejercicio 15\n",
    "Crea una matriz aleatoria de 5x5 y normaliza sus valores. Para normalizar tienes que restar sus valores por la media(`np.mean`) y dividir el resultado por la desviación estándar(`np.std`)."
   ]
  },
  {
   "cell_type": "code",
   "execution_count": 300,
   "metadata": {},
   "outputs": [
    {
     "name": "stdout",
     "output_type": "stream",
     "text": [
      "[[431 362 340 434 410]\n",
      " [358 341 361 436 441]\n",
      " [331 437 361 468 343]\n",
      " [350 411 411 471 427]\n",
      " [474 455 330 440 471]]\n"
     ]
    }
   ],
   "source": [
    "meanstd= np.random.randint(323,500,25)\n",
    "meanstd= meanstd.reshape(5,5)\n",
    "print(meanstd)"
   ]
  },
  {
   "cell_type": "code",
   "execution_count": 301,
   "metadata": {},
   "outputs": [
    {
     "name": "stdout",
     "output_type": "stream",
     "text": [
      "403.76\n"
     ]
    }
   ],
   "source": [
    "mean_de_meanstd=np.mean(meanstd)\n",
    "print(mean_de_meanstd)"
   ]
  },
  {
   "cell_type": "code",
   "execution_count": 302,
   "metadata": {},
   "outputs": [
    {
     "name": "stdout",
     "output_type": "stream",
     "text": [
      "49.28633076219003\n"
     ]
    }
   ],
   "source": [
    "standard=np.std(meanstd)\n",
    "print(standard)"
   ]
  },
  {
   "cell_type": "code",
   "execution_count": 303,
   "metadata": {},
   "outputs": [],
   "source": [
    "meanstd= (meanstd-mean_de_meanstd)/standard"
   ]
  },
  {
   "cell_type": "code",
   "execution_count": 304,
   "metadata": {},
   "outputs": [
    {
     "name": "stdout",
     "output_type": "stream",
     "text": [
      "[[ 0.553 -0.847 -1.294  0.614  0.127]\n",
      " [-0.928 -1.273 -0.868  0.654  0.756]\n",
      " [-1.476  0.674 -0.868  1.303 -1.233]\n",
      " [-1.091  0.147  0.147  1.364  0.472]\n",
      " [ 1.425  1.04  -1.497  0.735  1.364]]\n"
     ]
    }
   ],
   "source": [
    "print(np.round(meanstd, decimals=3))"
   ]
  },
  {
   "cell_type": "markdown",
   "metadata": {},
   "source": [
    "## Ejercicio 16\n",
    "1. Crea una secuencia de números que vayan del 0 al 10.\n",
    "2. Crea un nuevo array, que parta del anterior, pero sustituya por el valor -1, todos los elementos cuyo valor se encuentre entre el 3 y el 8.\n",
    "3. Crea un nuevo array que niegue todos los elementos entre el 3 y el 8"
   ]
  },
  {
   "cell_type": "code",
   "execution_count": 305,
   "metadata": {},
   "outputs": [
    {
     "name": "stdout",
     "output_type": "stream",
     "text": [
      "[ 0  1  2  3  4  5  6  7  8  9 10]\n"
     ]
    }
   ],
   "source": [
    "secunum= np.arange(0,11)\n",
    "print(secunum)"
   ]
  },
  {
   "cell_type": "code",
   "execution_count": 306,
   "metadata": {},
   "outputs": [
    {
     "data": {
      "text/plain": [
       "array([3, 4, 5, 6, 7, 8])"
      ]
     },
     "execution_count": 306,
     "metadata": {},
     "output_type": "execute_result"
    }
   ],
   "source": [
    "secunum[3:9]"
   ]
  },
  {
   "cell_type": "code",
   "execution_count": 307,
   "metadata": {},
   "outputs": [
    {
     "name": "stdout",
     "output_type": "stream",
     "text": [
      "[ 0  1  2 -1 -1 -1 -1 -1 -1  9 10]\n"
     ]
    }
   ],
   "source": [
    "secunum[3:9]= -1\n",
    "print(secunum)"
   ]
  },
  {
   "cell_type": "code",
   "execution_count": 308,
   "metadata": {},
   "outputs": [
    {
     "name": "stdout",
     "output_type": "stream",
     "text": [
      "[ 0  1  2 -1 -1 -1 -1 -1 -1  9 10]\n"
     ]
    }
   ],
   "source": [
    "nuevosecunum= secunum\n",
    "print(nuevosecunum)   "
   ]
  },
  {
   "cell_type": "code",
   "execution_count": null,
   "metadata": {},
   "outputs": [],
   "source": [
    "\n"
   ]
  }
 ],
 "metadata": {
  "kernelspec": {
   "display_name": "Python 3",
   "language": "python",
   "name": "python3"
  },
  "language_info": {
   "codemirror_mode": {
    "name": "ipython",
    "version": 3
   },
   "file_extension": ".py",
   "mimetype": "text/x-python",
   "name": "python",
   "nbconvert_exporter": "python",
   "pygments_lexer": "ipython3",
   "version": "3.11.9"
  }
 },
 "nbformat": 4,
 "nbformat_minor": 4
}
