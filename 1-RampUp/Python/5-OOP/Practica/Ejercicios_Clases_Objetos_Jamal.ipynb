{
 "cells": [
  {
   "cell_type": "markdown",
   "metadata": {},
   "source": [
    "![imagen](./img/ejercicios.png)\n",
    "\n",
    "# Ejercicios Clases y Objetos"
   ]
  },
  {
   "attachments": {},
   "cell_type": "markdown",
   "metadata": {},
   "source": [
    "## Ejercicio 1\n",
    "Somos una empresa que tiene varias tiendas de electrodomésticos. Necesitamos un programa para manejar las tiendas, ver las ventas que han tenido, cuántos empleados hay, etc... Para ello vamos a modelizar la tienda en una clase, que tendrá las siguientes características:\n",
    "* Nombre clase: \"Tienda\"\n",
    "* Atributos comunes:\n",
    "    * Tipo: \"Electrodomésticos\"\n",
    "    * Abierta: True\n",
    "* Atributos propios de cada tienda:\n",
    "    * Nombre - String\n",
    "    * Dirección - String\n",
    "    * Número de empleados - int\n",
    "    * Ventas últimos 3 meses - Lista de 3 numeros\n",
    "* Método para calcular las ventas de todos los meses, que devuelva un número con todas las ventas.\n",
    "* Método que calcula la media de ventas de los últimos meses, por empleado\n",
    "* Método que devuelve en un string el nombre de la tienda, junto con su dirección.\n",
    "* Método que obtiene las ventas del último mes.\n",
    "* Método para dar una proyección de las ventas en caso de haber invertido X dinero en marketing en esa tienda. Siendo X el parámetro de entrada. Si X es menor de 1000, las ventas de los ultimos 3 meses hubiesen sido de (1.2 x ventas), si es mayor o igual de 1000, las ventas hubiesen sido de (1.5 x venta). El método reescribe el atributo de ventas en los últimos 3 meses, y además devuelve las ventas con el aumento.\n",
    "\n",
    "Se pide:\n",
    "1. Implementar la clase \"Tienda\"\n",
    "2. Crear tres tiendas con datos inventados\n",
    "3. Comprueba en al menos una de ellas, todo lo implementado en la clase tienda (sus atributos, media de ventas, ventas/empleado...)\n",
    "3. Calcular las ventas del último mes de todas las tiendas. Para ello usa el bucle `for`\n",
    "4. Imprime por pantalla los nombres de las tiendas cuya dirección lleve el string \"Avenida\"\n",
    "5. Seguro que ya has hecho este apartado... Documenta la clase :)"
   ]
  },
  {
   "cell_type": "code",
   "execution_count": 11,
   "metadata": {},
   "outputs": [],
   "source": [
    "class tienda:\n",
    "    Tipo = \"Electrodomesticos\"\n",
    "    abierta = True\n",
    "    def __init__ (self, Nombre=str, Direccion=str, Nempleados=int, Ventas3M=[]):\n",
    "        self.Nombre = Nombre\n",
    "        self.Direccion = Direccion\n",
    "        self.Nempleados = Nempleados\n",
    "        self.Ventas3M = Ventas3M\n",
    "\n",
    "    def ventatotales(self):\n",
    "        return sum(self.Ventas3M)\n",
    "    \n",
    "    def mediaventas(self):\n",
    "        totalventas=self.ventatotales()\n",
    "        return totalventas/self.Nempleados\n",
    "    \n",
    "    def nombretienda(self):\n",
    "        return self.Nombre +\" \"+ self.Direccion\n",
    "        \n",
    "    def ventaultimomes(self):\n",
    "        ventaultimom = self.Ventas3M[-1]\n",
    "        return ventaultimom\n",
    "    \n",
    "    def proyeccion(self, x=int): \n",
    "        if x >= 1000:\n",
    "            aumento = 1.5\n",
    "        else: \n",
    "            aumento = 1.2\n",
    "        self.Ventas3M = [venta * aumento for venta in self.Ventas3M]\n",
    "        return self.Ventas3M\n",
    "              \n",
    "    "
   ]
  },
  {
   "cell_type": "code",
   "execution_count": 12,
   "metadata": {},
   "outputs": [],
   "source": [
    "tienda1 = tienda(\"Electrodomésticos Plaza\", \"Calle Mayor 123\", 10, [5000, 6000, 6000])\n",
    "tienda2 = tienda(\"Xmas Electrodomésticos \", \"Avenida igual 123\", 15, [7000, 7000, 7000])\n",
    "tienda3 = tienda(\"Electrodomésticos Tochos\", \"Calle menor 123\", 20, [9000, 9000, 9000])\n"
   ]
  },
  {
   "cell_type": "code",
   "execution_count": 13,
   "metadata": {},
   "outputs": [
    {
     "name": "stdout",
     "output_type": "stream",
     "text": [
      "17000\n",
      "1700.0\n",
      "Electrodomésticos Plaza Calle Mayor 123\n",
      "6000\n",
      "[7500.0, 9000.0, 9000.0]\n"
     ]
    }
   ],
   "source": [
    "print(tienda1.ventatotales())\n",
    "print(tienda1.mediaventas())\n",
    "print(tienda1.nombretienda())\n",
    "print(tienda1.ventaultimomes())\n",
    "print(tienda1.proyeccion(1000))"
   ]
  },
  {
   "cell_type": "code",
   "execution_count": 14,
   "metadata": {},
   "outputs": [
    {
     "name": "stdout",
     "output_type": "stream",
     "text": [
      "9000.0\n",
      "7000\n",
      "9000\n"
     ]
    }
   ],
   "source": [
    "for v in tienda1.ventaultimomes(), tienda2.ventaultimomes(),tienda3.ventaultimomes():\n",
    "    print(v)"
   ]
  },
  {
   "cell_type": "code",
   "execution_count": null,
   "metadata": {},
   "outputs": [
    {
     "name": "stdout",
     "output_type": "stream",
     "text": [
      "Xmas Electrodomésticos  Avenida igual 123\n"
     ]
    }
   ],
   "source": [
    "for tiendita in [tienda1,tienda2,tienda3]:\n",
    "    if \"Avenida\" in tiendita.Direccion:\n",
    "        print(tiendita.nombretienda())"
   ]
  },
  {
   "cell_type": "code",
   "execution_count": null,
   "metadata": {},
   "outputs": [],
   "source": []
  },
  {
   "cell_type": "code",
   "execution_count": null,
   "metadata": {},
   "outputs": [],
   "source": []
  },
  {
   "cell_type": "code",
   "execution_count": null,
   "metadata": {},
   "outputs": [],
   "source": []
  },
  {
   "cell_type": "code",
   "execution_count": null,
   "metadata": {},
   "outputs": [],
   "source": []
  },
  {
   "cell_type": "code",
   "execution_count": null,
   "metadata": {},
   "outputs": [],
   "source": []
  },
  {
   "cell_type": "markdown",
   "metadata": {},
   "source": [
    "## Ejercicio 2\n",
    "En este ejercicio vamos a implementar una clase *Perro* en Python. La clase tiene las siguientes características:\n",
    "* Cosas que sabemos seguro que tiene un perro\n",
    "    * Tiene 4 patas\n",
    "    * 2 orejas\n",
    "    * 2 ojos\n",
    "    * Una velocidad de 0. Por defecto, el perro está parado\n",
    "* Cuando se inicialice:\n",
    "    * El perro será de una determinada raza\n",
    "    * Por defecto tendrá pelo \"Marrón\", a no ser que se diga lo contrario.\n",
    "    * Por defecto no tendrá dueño, a no ser que se diga lo contrario.\n",
    "    \n",
    "* Dispondrá también de un método llamado andar, que tiene un argumento de entrada (aumento_velocidad). Este valor se le sumará a la velocidad que ya llevaba el perro.\n",
    "* Necesita otro método (parar), donde pondremos la velocidad a 0.\n",
    "* Otro método llamado \"ladrar\", que tendrá un argumento de entrada, y la salida será el siguiente string: \"GUAU!\" + el argumento de entrada.\n",
    "\n",
    "\n",
    "Se pide:\n",
    "* Implementa la clase *Perro*\n",
    "* Crea un objeto de tipo *Perro*, sin dueño\n",
    "* Comprueba que están bien todos sus atributos\n",
    "* Prueba que ande, y comprueba su velocidad\n",
    "* Páralo\n",
    "* Documenta la clase *Perro*"
   ]
  },
  {
   "cell_type": "code",
   "execution_count": 26,
   "metadata": {},
   "outputs": [],
   "source": [
    "class perro:\n",
    "    patas = 2\n",
    "    orejas = 2\n",
    "    ojos= 2\n",
    "    Velocidad = 0\n",
    "\n",
    "    def __init__(self,raza,pelo=\"Marron\",dueño=False):\n",
    "        self.raza = raza\n",
    "        self.pelo = pelo\n",
    "        self.dueño=dueño\n",
    "\n",
    "    def andar(self, aumentarvelocidad):\n",
    "        self.Velocidad += aumentarvelocidad\n",
    "        print(f\"el perro va a {self.Velocidad} km/h \")\n",
    "\n",
    "    def parar(self):\n",
    "        self.Velocidad=0\n",
    "        print(\"El perro se ha parado\")\n",
    "    \n",
    "    def ladrar(self, dice):\n",
    "        return dice + \" \" + \"Guau\""
   ]
  },
  {
   "cell_type": "code",
   "execution_count": 30,
   "metadata": {},
   "outputs": [
    {
     "name": "stdout",
     "output_type": "stream",
     "text": [
      "el perro va a 100 km/h \n",
      "El perro se ha parado\n",
      "¡Los gatos son mejores! Guau\n"
     ]
    }
   ],
   "source": [
    "perro1 = perro(raza=\"Golden Retriever\", dueño=True)\n",
    "perro1.andar(100)\n",
    "perro1.parar()\n",
    "print(perro1.ladrar(\"¡Los gatos son mejores!\"))"
   ]
  },
  {
   "cell_type": "code",
   "execution_count": null,
   "metadata": {},
   "outputs": [],
   "source": []
  },
  {
   "cell_type": "code",
   "execution_count": null,
   "metadata": {},
   "outputs": [],
   "source": []
  },
  {
   "cell_type": "code",
   "execution_count": null,
   "metadata": {},
   "outputs": [],
   "source": []
  }
 ],
 "metadata": {
  "kernelspec": {
   "display_name": "Python 3",
   "language": "python",
   "name": "python3"
  },
  "language_info": {
   "codemirror_mode": {
    "name": "ipython",
    "version": 3
   },
   "file_extension": ".py",
   "mimetype": "text/x-python",
   "name": "python",
   "nbconvert_exporter": "python",
   "pygments_lexer": "ipython3",
   "version": "3.11.9"
  }
 },
 "nbformat": 4,
 "nbformat_minor": 4
}
