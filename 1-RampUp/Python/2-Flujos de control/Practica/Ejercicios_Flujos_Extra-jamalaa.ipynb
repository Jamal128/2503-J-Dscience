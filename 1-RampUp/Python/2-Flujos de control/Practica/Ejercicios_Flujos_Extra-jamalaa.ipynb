{
 "cells": [
  {
   "cell_type": "markdown",
   "metadata": {},
   "source": [
    "![imagen](./img/ejercicios.png)"
   ]
  },
  {
   "cell_type": "markdown",
   "metadata": {},
   "source": [
    "# Ejercicios Flujos de control"
   ]
  },
  {
   "cell_type": "markdown",
   "metadata": {},
   "source": [
    "## Ejercicio Extra\n",
    "Programa una calculadora que\n",
    "\n",
    "* Pregunte qué operación quieres realizar (multiplicación/división/suma/resta/potencia/salir)\n",
    "* Pida dos números \n",
    "* Realice la operación\n",
    "* Siga funcionando hasta que el usuario elija salir\n",
    "\n",
    "#### Bonus:\n",
    "* Que guarde todas las operaciones realizadas y las imprima por pantalla cuando el usuario elija esa opción\n",
    "* Que sea robusta frente a entradas erróneas del usuario o frente a operaciones como dividir por 0"
   ]
  },
  {
   "cell_type": "code",
   "execution_count": 3,
   "metadata": {},
   "outputs": [
    {
     "name": "stdout",
     "output_type": "stream",
     "text": [
      "Selecciona una opción:\n",
      "1. multiplicacion\n",
      "2. division\n",
      "3. suma\n",
      "4. resta\n",
      "5. potencia\n",
      "6. salir\n",
      "Diviendo numero 4 con 6 = 0.6666666666666666 \n",
      "Diviendo numero 4 con 6 = 0.6666666666666666 \n",
      "Diviendo numero 7 con 9 = 0.7777777777777778 \n",
      "Multiplicando numero 5 con 8 = 40\n",
      "POTENCIANDO MAXIMAMENTE EL numero 5 con 5 = 3125 \n",
      "Ha salido con exito\n"
     ]
    }
   ],
   "source": [
    "print(\"Selecciona una opción:\")\n",
    "print(\"1. multiplicacion\")\n",
    "print(\"2. division\")\n",
    "print(\"3. suma\")\n",
    "print(\"4. resta\")\n",
    "print(\"5. potencia\")\n",
    "print(\"6. salir\")\n",
    "\n",
    "\n",
    "while True:\n",
    "    opcion = str(input(\"Elige una opción de 1-6: \"))\n",
    "    if opcion==\"6\":\n",
    "        print(\"Ha salido con exito\")\n",
    "        break\n",
    "    xnum= int(input(\"Introduzca un integer positivo\"))\n",
    "    ynum = int(input(\"Introduzca otro integer positivo\"))\n",
    "    if opcion == \"1\":\n",
    "        multi=xnum*ynum\n",
    "        print(f\"Multiplicando numero {xnum} con {ynum} = {multi}\")\n",
    "    elif opcion == \"2\":\n",
    "        if ynum == 0:\n",
    "                print(\"Error: No se puede dividir entre 0.\")\n",
    "        else:\n",
    "            divi=xnum/ynum\n",
    "        print(f\"Diviendo numero {xnum} con {ynum} = {divi} \")\n",
    "    elif opcion == \"3\":\n",
    "        sum=xnum+ynum\n",
    "        print(f\"Sumando numero {xnum} con {ynum} = {sum} \")\n",
    "    elif opcion == \"4\":\n",
    "        resta=xnum-ynum\n",
    "        print(f\"Restando numero {xnum} con {ynum} = {resta} \")\n",
    "    elif opcion == \"5\":\n",
    "        potencia=xnum**ynum\n",
    "        print(f\"POTENCIANDO MAXIMAMENTE EL numero {xnum} con {ynum} = {potencia} \")\n",
    "    \n"
   ]
  },
  {
   "cell_type": "code",
   "execution_count": null,
   "metadata": {},
   "outputs": [],
   "source": []
  }
 ],
 "metadata": {
  "kernelspec": {
   "display_name": "Python 3",
   "language": "python",
   "name": "python3"
  },
  "language_info": {
   "codemirror_mode": {
    "name": "ipython",
    "version": 3
   },
   "file_extension": ".py",
   "mimetype": "text/x-python",
   "name": "python",
   "nbconvert_exporter": "python",
   "pygments_lexer": "ipython3",
   "version": "3.11.9"
  }
 },
 "nbformat": 4,
 "nbformat_minor": 4
}
